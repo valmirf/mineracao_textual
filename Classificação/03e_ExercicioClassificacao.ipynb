{
  "nbformat": 4,
  "nbformat_minor": 0,
  "metadata": {
    "colab": {
      "name": "03e_ExercicioClassificacao.ipynb",
      "provenance": [],
      "include_colab_link": true
    },
    "kernelspec": {
      "name": "python3",
      "display_name": "Python 3"
    }
  },
  "cells": [
    {
      "cell_type": "markdown",
      "metadata": {
        "id": "view-in-github",
        "colab_type": "text"
      },
      "source": [
        "<a href=\"https://colab.research.google.com/github/valmirf/mineracao_textual/blob/main/Classifica%C3%A7%C3%A3o/03e_ExercicioClassificacao.ipynb\" target=\"_parent\"><img src=\"https://colab.research.google.com/assets/colab-badge.svg\" alt=\"Open In Colab\"/></a>"
      ]
    },
    {
      "cell_type": "markdown",
      "metadata": {
        "id": "YGfG7BHb-W-r"
      },
      "source": [
        "Exercício: Classificando Petição Inicial de Problemas com Viagens"
      ]
    },
    {
      "cell_type": "code",
      "metadata": {
        "colab": {
          "base_uri": "https://localhost:8080/"
        },
        "id": "54zmUMTCWZfd",
        "outputId": "f2736d6d-87b5-461e-b3e8-00b6312c3325"
      },
      "source": [
        "!git clone https://github.com/valmirf/mineracao_textual.git"
      ],
      "execution_count": null,
      "outputs": [
        {
          "output_type": "stream",
          "text": [
            "fatal: destination path 'mineracao_textual' already exists and is not an empty directory.\n"
          ],
          "name": "stdout"
        }
      ]
    },
    {
      "cell_type": "code",
      "metadata": {
        "id": "-3IMacGw8BP6",
        "colab": {
          "base_uri": "https://localhost:8080/",
          "height": 203
        },
        "outputId": "c8a29aa4-15ac-499a-f629-7a15b293f717"
      },
      "source": [
        "import pandas as pd\n",
        "\n",
        "df = data = pd.read_csv(\"mineracao_textual/Dados/dataset_ness_law.csv\")\n",
        "df.head()"
      ],
      "execution_count": null,
      "outputs": [
        {
          "output_type": "execute_result",
          "data": {
            "text/html": [
              "<div>\n",
              "<style scoped>\n",
              "    .dataframe tbody tr th:only-of-type {\n",
              "        vertical-align: middle;\n",
              "    }\n",
              "\n",
              "    .dataframe tbody tr th {\n",
              "        vertical-align: top;\n",
              "    }\n",
              "\n",
              "    .dataframe thead th {\n",
              "        text-align: right;\n",
              "    }\n",
              "</style>\n",
              "<table border=\"1\" class=\"dataframe\">\n",
              "  <thead>\n",
              "    <tr style=\"text-align: right;\">\n",
              "      <th></th>\n",
              "      <th>txt</th>\n",
              "      <th>objeto</th>\n",
              "    </tr>\n",
              "  </thead>\n",
              "  <tbody>\n",
              "    <tr>\n",
              "      <th>0</th>\n",
              "      <td>fatos joão césar sala eldorado contagem marque...</td>\n",
              "      <td>Extravio de Bagagem</td>\n",
              "    </tr>\n",
              "    <tr>\n",
              "      <th>1</th>\n",
              "      <td>fatos fatos ocorridos trecho conforme document...</td>\n",
              "      <td>Doméstico</td>\n",
              "    </tr>\n",
              "    <tr>\n",
              "      <th>2</th>\n",
              "      <td>fatos autores presente ação programaram meses ...</td>\n",
              "      <td>Atraso ou Cancelamento de Voo</td>\n",
              "    </tr>\n",
              "    <tr>\n",
              "      <th>3</th>\n",
              "      <td>fatos objetivando viajar porto alegre particip...</td>\n",
              "      <td>Alteração na Malha Aérea</td>\n",
              "    </tr>\n",
              "    <tr>\n",
              "      <th>4</th>\n",
              "      <td>fatos autor comprou passagem retorno casa após...</td>\n",
              "      <td>Extravio de Bagagem</td>\n",
              "    </tr>\n",
              "  </tbody>\n",
              "</table>\n",
              "</div>"
            ],
            "text/plain": [
              "                                                 txt                         objeto\n",
              "0  fatos joão césar sala eldorado contagem marque...            Extravio de Bagagem\n",
              "1  fatos fatos ocorridos trecho conforme document...                      Doméstico\n",
              "2  fatos autores presente ação programaram meses ...  Atraso ou Cancelamento de Voo\n",
              "3  fatos objetivando viajar porto alegre particip...       Alteração na Malha Aérea\n",
              "4  fatos autor comprou passagem retorno casa após...            Extravio de Bagagem"
            ]
          },
          "metadata": {
            "tags": []
          },
          "execution_count": 12
        }
      ]
    },
    {
      "cell_type": "markdown",
      "metadata": {
        "id": "mIcfqQGH-G_F"
      },
      "source": [
        "Analise a distribuição das classes, indicadas na coluna `Class Name`"
      ]
    },
    {
      "cell_type": "code",
      "metadata": {
        "id": "I_NLk1Ev-qqF",
        "colab": {
          "base_uri": "https://localhost:8080/"
        },
        "outputId": "84cc4e03-1e78-42f8-917e-edee808cf37a"
      },
      "source": [
        "# sua resposta\n",
        "df['objeto'].value_counts()"
      ],
      "execution_count": null,
      "outputs": [
        {
          "output_type": "execute_result",
          "data": {
            "text/plain": [
              "Atraso ou Cancelamento de Voo      136\n",
              "Alteração na Malha Aérea            79\n",
              "Doméstico                           59\n",
              "Extravio de Bagagem                 49\n",
              "Inconformidade de Taxas             26\n",
              "Embarque Impedido                   16\n",
              "Danificação de Bagagem               9\n",
              "Equívoco ou Atraso no Reembolso      9\n",
              "Provisório                           8\n",
              "Erro ou Alteração na Reserva         6\n",
              "Outros                               3\n",
              "Name: objeto, dtype: int64"
            ]
          },
          "metadata": {
            "tags": []
          },
          "execution_count": 13
        }
      ]
    },
    {
      "cell_type": "markdown",
      "metadata": {
        "id": "uPzg6Wcs-1rl"
      },
      "source": [
        "Analise a distribuição do comprimento dos reviews, plote um histograma (`DataFrame.plot.hist()`)"
      ]
    },
    {
      "cell_type": "code",
      "metadata": {
        "id": "UAiZekzx-0-N",
        "colab": {
          "base_uri": "https://localhost:8080/",
          "height": 282
        },
        "outputId": "e0ba3875-c0f2-452c-82d7-5584073028b2"
      },
      "source": [
        "# sua resposta\n",
        "df['TamanhoObjeto'] = df['objeto'].apply(lambda x: len(x))\n",
        "df['TamanhoObjeto'].plot.hist()"
      ],
      "execution_count": null,
      "outputs": [
        {
          "output_type": "execute_result",
          "data": {
            "text/plain": [
              "<matplotlib.axes._subplots.AxesSubplot at 0x7f0972c667d0>"
            ]
          },
          "metadata": {
            "tags": []
          },
          "execution_count": 14
        },
        {
          "output_type": "display_data",
          "data": {
            "image/png": "[encoded data removed]",
            "text/plain": [
              "<Figure size 432x288 with 1 Axes>"
            ]
          },
          "metadata": {
            "tags": [],
            "needs_background": "light"
          }
        }
      ]
    },
    {
      "cell_type": "markdown",
      "metadata": {
        "id": "Yfm1MeotAh4Z"
      },
      "source": [
        "Aplique a função de encoding de rótulos categóricos do Sklearn ([LabelEncoder](https://scikit-learn.org/stable/modules/generated/sklearn.preprocessing.LabelEncoder.html)) para converter os rótulos de classe em numeros. Salve em uma coluna adicional no dataframe."
      ]
    },
    {
      "cell_type": "code",
      "metadata": {
        "id": "nLGbAo3-xJ3G",
        "colab": {
          "base_uri": "https://localhost:8080/",
          "height": 432
        },
        "outputId": "2575e1bc-c1ab-4c6f-ba31-5b8e3d2bd927"
      },
      "source": [
        "# descartar classes minoritarias\n",
        "major_classes = list(df['objeto'].value_counts()[0:4].index)\n",
        "majority      = df.loc[df['objeto'].isin(major_classes),]\n",
        "minority      = df.loc[~df['objeto'].isin(major_classes),]\n",
        "\n",
        "print('\\n',5*'=', 'major classes: \\n',    majority['objeto'].value_counts()[0:4])\n",
        "print('\\n',5*'=', 'minority classes: \\n', minority['objeto'].value_counts()[4:])\n",
        "\n",
        "majority.head()"
      ],
      "execution_count": null,
      "outputs": [
        {
          "output_type": "stream",
          "text": [
            "\n",
            " ===== major classes: \n",
            " Atraso ou Cancelamento de Voo    136\n",
            "Alteração na Malha Aérea          79\n",
            "Doméstico                         59\n",
            "Extravio de Bagagem               49\n",
            "Name: objeto, dtype: int64\n",
            "\n",
            " ===== minority classes: \n",
            " Provisório                      8\n",
            "Erro ou Alteração na Reserva    6\n",
            "Outros                          3\n",
            "Name: objeto, dtype: int64\n"
          ],
          "name": "stdout"
        },
        {
          "output_type": "execute_result",
          "data": {
            "text/html": [
              "<div>\n",
              "<style scoped>\n",
              "    .dataframe tbody tr th:only-of-type {\n",
              "        vertical-align: middle;\n",
              "    }\n",
              "\n",
              "    .dataframe tbody tr th {\n",
              "        vertical-align: top;\n",
              "    }\n",
              "\n",
              "    .dataframe thead th {\n",
              "        text-align: right;\n",
              "    }\n",
              "</style>\n",
              "<table border=\"1\" class=\"dataframe\">\n",
              "  <thead>\n",
              "    <tr style=\"text-align: right;\">\n",
              "      <th></th>\n",
              "      <th>txt</th>\n",
              "      <th>objeto</th>\n",
              "      <th>TamanhoObjeto</th>\n",
              "    </tr>\n",
              "  </thead>\n",
              "  <tbody>\n",
              "    <tr>\n",
              "      <th>0</th>\n",
              "      <td>fatos joão césar sala eldorado contagem marque...</td>\n",
              "      <td>Extravio de Bagagem</td>\n",
              "      <td>19</td>\n",
              "    </tr>\n",
              "    <tr>\n",
              "      <th>1</th>\n",
              "      <td>fatos fatos ocorridos trecho conforme document...</td>\n",
              "      <td>Doméstico</td>\n",
              "      <td>9</td>\n",
              "    </tr>\n",
              "    <tr>\n",
              "      <th>2</th>\n",
              "      <td>fatos autores presente ação programaram meses ...</td>\n",
              "      <td>Atraso ou Cancelamento de Voo</td>\n",
              "      <td>29</td>\n",
              "    </tr>\n",
              "    <tr>\n",
              "      <th>3</th>\n",
              "      <td>fatos objetivando viajar porto alegre particip...</td>\n",
              "      <td>Alteração na Malha Aérea</td>\n",
              "      <td>24</td>\n",
              "    </tr>\n",
              "    <tr>\n",
              "      <th>4</th>\n",
              "      <td>fatos autor comprou passagem retorno casa após...</td>\n",
              "      <td>Extravio de Bagagem</td>\n",
              "      <td>19</td>\n",
              "    </tr>\n",
              "  </tbody>\n",
              "</table>\n",
              "</div>"
            ],
            "text/plain": [
              "                                                 txt  ... TamanhoObjeto\n",
              "0  fatos joão césar sala eldorado contagem marque...  ...            19\n",
              "1  fatos fatos ocorridos trecho conforme document...  ...             9\n",
              "2  fatos autores presente ação programaram meses ...  ...            29\n",
              "3  fatos objetivando viajar porto alegre particip...  ...            24\n",
              "4  fatos autor comprou passagem retorno casa após...  ...            19\n",
              "\n",
              "[5 rows x 3 columns]"
            ]
          },
          "metadata": {
            "tags": []
          },
          "execution_count": 15
        }
      ]
    },
    {
      "cell_type": "code",
      "metadata": {
        "id": "WkVpxbybA9fm",
        "colab": {
          "base_uri": "https://localhost:8080/",
          "height": 329
        },
        "outputId": "736a9b24-3d35-48e9-d559-479feb327c08"
      },
      "source": [
        "from sklearn.preprocessing import LabelEncoder\n",
        "\n",
        "le = LabelEncoder()\n",
        "le.fit(majority['objeto'])\n",
        "majority['label'] = le.transform(majority['objeto'])\n",
        "majority.head()"
      ],
      "execution_count": null,
      "outputs": [
        {
          "output_type": "stream",
          "text": [
            "/usr/local/lib/python3.7/dist-packages/ipykernel_launcher.py:5: SettingWithCopyWarning: \n",
            "A value is trying to be set on a copy of a slice from a DataFrame.\n",
            "Try using .loc[row_indexer,col_indexer] = value instead\n",
            "\n",
            "See the caveats in the documentation: https://pandas.pydata.org/pandas-docs/stable/user_guide/indexing.html#returning-a-view-versus-a-copy\n",
            "  \"\"\"\n"
          ],
          "name": "stderr"
        },
        {
          "output_type": "execute_result",
          "data": {
            "text/html": [
              "<div>\n",
              "<style scoped>\n",
              "    .dataframe tbody tr th:only-of-type {\n",
              "        vertical-align: middle;\n",
              "    }\n",
              "\n",
              "    .dataframe tbody tr th {\n",
              "        vertical-align: top;\n",
              "    }\n",
              "\n",
              "    .dataframe thead th {\n",
              "        text-align: right;\n",
              "    }\n",
              "</style>\n",
              "<table border=\"1\" class=\"dataframe\">\n",
              "  <thead>\n",
              "    <tr style=\"text-align: right;\">\n",
              "      <th></th>\n",
              "      <th>txt</th>\n",
              "      <th>objeto</th>\n",
              "      <th>TamanhoObjeto</th>\n",
              "      <th>label</th>\n",
              "    </tr>\n",
              "  </thead>\n",
              "  <tbody>\n",
              "    <tr>\n",
              "      <th>0</th>\n",
              "      <td>fatos joão césar sala eldorado contagem marque...</td>\n",
              "      <td>Extravio de Bagagem</td>\n",
              "      <td>19</td>\n",
              "      <td>3</td>\n",
              "    </tr>\n",
              "    <tr>\n",
              "      <th>1</th>\n",
              "      <td>fatos fatos ocorridos trecho conforme document...</td>\n",
              "      <td>Doméstico</td>\n",
              "      <td>9</td>\n",
              "      <td>2</td>\n",
              "    </tr>\n",
              "    <tr>\n",
              "      <th>2</th>\n",
              "      <td>fatos autores presente ação programaram meses ...</td>\n",
              "      <td>Atraso ou Cancelamento de Voo</td>\n",
              "      <td>29</td>\n",
              "      <td>1</td>\n",
              "    </tr>\n",
              "    <tr>\n",
              "      <th>3</th>\n",
              "      <td>fatos objetivando viajar porto alegre particip...</td>\n",
              "      <td>Alteração na Malha Aérea</td>\n",
              "      <td>24</td>\n",
              "      <td>0</td>\n",
              "    </tr>\n",
              "    <tr>\n",
              "      <th>4</th>\n",
              "      <td>fatos autor comprou passagem retorno casa após...</td>\n",
              "      <td>Extravio de Bagagem</td>\n",
              "      <td>19</td>\n",
              "      <td>3</td>\n",
              "    </tr>\n",
              "  </tbody>\n",
              "</table>\n",
              "</div>"
            ],
            "text/plain": [
              "                                                 txt  ... label\n",
              "0  fatos joão césar sala eldorado contagem marque...  ...     3\n",
              "1  fatos fatos ocorridos trecho conforme document...  ...     2\n",
              "2  fatos autores presente ação programaram meses ...  ...     1\n",
              "3  fatos objetivando viajar porto alegre particip...  ...     0\n",
              "4  fatos autor comprou passagem retorno casa após...  ...     3\n",
              "\n",
              "[5 rows x 4 columns]"
            ]
          },
          "metadata": {
            "tags": []
          },
          "execution_count": 16
        }
      ]
    },
    {
      "cell_type": "markdown",
      "metadata": {
        "id": "w3oDZj-l8o-7"
      },
      "source": [
        "Aplique o pipeline de pré-processamento utilizando o NLTK ou SpaCy (tokenização e remoção de stopwords), e em seguida, utilize as funções de transformação do Scikit-Learn para textos, utilizando os atributos de n-gramas para classificar os textos:\n",
        "```\n",
        "from sklearn.feature_extraction.text import TfidfVectorizer\n",
        "vectorizer = TfidfVectorizer(use_idf=True)\n",
        "```\n",
        "No qual você pode passar os valores de intervalos de n-gramas:\n",
        "- um intervalo de ngram de (1, 1) significa apenas unigramas\n",
        "- (1, 2) significa unigramas e bigrams \n",
        "- (2, 2) significa apenas bigrams"
      ]
    },
    {
      "cell_type": "code",
      "metadata": {
        "id": "4jWJ-CsH_2KV"
      },
      "source": [
        "from sklearn.feature_extraction.text import TfidfVectorizer\n",
        "vectorizer_onegram = TfidfVectorizer(use_idf=True, ngram_range=(1,1))\n",
        "vectorizer_bigram  = TfidfVectorizer(use_idf=True, ngram_range=(2,2))\n",
        "vectorizer_one_bigram  = TfidfVectorizer(use_idf=True, ngram_range=(1,2))"
      ],
      "execution_count": null,
      "outputs": []
    },
    {
      "cell_type": "markdown",
      "metadata": {
        "id": "rvhV-u3N_2Wo"
      },
      "source": [
        "Separe o conjunto em treino e teste. Utilize a função `sklearn.model_selection.train_test_split()`"
      ]
    },
    {
      "cell_type": "code",
      "metadata": {
        "id": "rpg1zl1gAHlD",
        "colab": {
          "base_uri": "https://localhost:8080/"
        },
        "outputId": "6c268613-7dae-46d7-edc9-72f7e3fdd097"
      },
      "source": [
        "from sklearn.model_selection import train_test_split\n",
        "\n",
        "X = majority['txt']\n",
        "y = majority['label']\n",
        "\n",
        "X_train, X_test, y_train, y_test  = train_test_split(X, y, test_size=0.30, random_state=42, stratify=y)\n",
        "le.classes_"
      ],
      "execution_count": null,
      "outputs": [
        {
          "output_type": "execute_result",
          "data": {
            "text/plain": [
              "array(['Alteração na Malha Aérea', 'Atraso ou Cancelamento de Voo',\n",
              "       'Doméstico', 'Extravio de Bagagem'], dtype=object)"
            ]
          },
          "metadata": {
            "tags": []
          },
          "execution_count": 9
        }
      ]
    },
    {
      "cell_type": "markdown",
      "metadata": {
        "id": "Wuh4HvH9AH03"
      },
      "source": [
        "Treine um modelo com o algoritmo `NaiveBayes`, e salve as predições para o conjunto de testes na variável `preds`"
      ]
    },
    {
      "cell_type": "code",
      "metadata": {
        "id": "Sirb-mtbAR7H",
        "colab": {
          "base_uri": "https://localhost:8080/"
        },
        "outputId": "c64e1214-ae72-43b4-a9fb-cb612cfe7ef2"
      },
      "source": [
        "from sklearn.pipeline import Pipeline\n",
        "from sklearn.naive_bayes import MultinomialNB\n",
        "from sklearn.svm import SVC\n",
        "from xgboost import XGBClassifier\n",
        "\n",
        "from sklearn import metrics\n",
        "\n",
        "pipelines = [('onegram_nb', \n",
        "                Pipeline([('tfidf_onegram', vectorizer_onegram), \n",
        "                          ('nb', MultinomialNB())])),\n",
        "             ('bigram_nb', \n",
        "                Pipeline([('tfidf_bigram',  vectorizer_bigram),  \n",
        "                          ('nb', MultinomialNB())])),\n",
        "             ('onegram_svc', \n",
        "                Pipeline([('tfidf_onegram',  vectorizer_onegram),  \n",
        "                          ('nb', SVC())])),\n",
        "             ('bigram_svc', \n",
        "                Pipeline([('tfidf_bigram',  vectorizer_bigram),  \n",
        "                          ('nb', SVC())])),\n",
        "             ('onegram_xgboost', \n",
        "                Pipeline([('tfidf_onegram',  vectorizer_onegram),  \n",
        "                          ('nb', XGBClassifier())])),\n",
        "             ('bigram_xgboost', \n",
        "                Pipeline([('tfidf_bigram',  vectorizer_bigram),  \n",
        "                          ('nb', XGBClassifier())])),\n",
        "             ('one_bigram_xgboost', \n",
        "                Pipeline([('tfidf_one_bigram',  vectorizer_one_bigram),  \n",
        "                          ('nb', XGBClassifier())])),\n",
        "             ]\n",
        "\n",
        "\n",
        "for name, pipe in pipelines:\n",
        "  print(10*'-')\n",
        "  print(name)\n",
        "\n",
        "  pipe.fit(X_train, y_train)\n",
        "  preds = pipe.predict(X_test)\n",
        "  print(metrics.classification_report(preds, y_test, target_names=list(le.classes_)))\n"
      ],
      "execution_count": null,
      "outputs": [
        {
          "output_type": "stream",
          "text": [
            "----------\n",
            "onegram_nb\n"
          ],
          "name": "stdout"
        },
        {
          "output_type": "stream",
          "text": [
            "/usr/local/lib/python3.7/dist-packages/sklearn/metrics/_classification.py:1272: UndefinedMetricWarning: Recall and F-score are ill-defined and being set to 0.0 in labels with no true samples. Use `zero_division` parameter to control this behavior.\n",
            "  _warn_prf(average, modifier, msg_start, len(result))\n"
          ],
          "name": "stderr"
        },
        {
          "output_type": "stream",
          "text": [
            "                               precision    recall  f1-score   support\n",
            "\n",
            "     Alteração na Malha Aérea       0.04      1.00      0.08         1\n",
            "Atraso ou Cancelamento de Voo       1.00      0.43      0.60        96\n",
            "                    Doméstico       0.00      0.00      0.00         0\n",
            "          Extravio de Bagagem       0.00      0.00      0.00         0\n",
            "\n",
            "                     accuracy                           0.43        97\n",
            "                    macro avg       0.26      0.36      0.17        97\n",
            "                 weighted avg       0.99      0.43      0.59        97\n",
            "\n",
            "----------\n",
            "bigram_nb\n"
          ],
          "name": "stdout"
        },
        {
          "output_type": "stream",
          "text": [
            "/usr/local/lib/python3.7/dist-packages/sklearn/metrics/_classification.py:1272: UndefinedMetricWarning: Recall and F-score are ill-defined and being set to 0.0 in labels with no true samples. Use `zero_division` parameter to control this behavior.\n",
            "  _warn_prf(average, modifier, msg_start, len(result))\n"
          ],
          "name": "stderr"
        },
        {
          "output_type": "stream",
          "text": [
            "                               precision    recall  f1-score   support\n",
            "\n",
            "     Alteração na Malha Aérea       0.29      0.78      0.42         9\n",
            "Atraso ou Cancelamento de Voo       0.95      0.44      0.60        88\n",
            "                    Doméstico       0.00      0.00      0.00         0\n",
            "          Extravio de Bagagem       0.00      0.00      0.00         0\n",
            "\n",
            "                     accuracy                           0.47        97\n",
            "                    macro avg       0.31      0.31      0.26        97\n",
            "                 weighted avg       0.89      0.47      0.59        97\n",
            "\n",
            "----------\n",
            "onegram_svc\n"
          ],
          "name": "stdout"
        },
        {
          "output_type": "stream",
          "text": [
            "/usr/local/lib/python3.7/dist-packages/sklearn/metrics/_classification.py:1272: UndefinedMetricWarning: Recall and F-score are ill-defined and being set to 0.0 in labels with no true samples. Use `zero_division` parameter to control this behavior.\n",
            "  _warn_prf(average, modifier, msg_start, len(result))\n"
          ],
          "name": "stderr"
        },
        {
          "output_type": "stream",
          "text": [
            "                               precision    recall  f1-score   support\n",
            "\n",
            "     Alteração na Malha Aérea       0.38      0.90      0.53        10\n",
            "Atraso ou Cancelamento de Voo       0.98      0.48      0.64        84\n",
            "                    Doméstico       0.00      0.00      0.00         0\n",
            "          Extravio de Bagagem       0.14      0.67      0.24         3\n",
            "\n",
            "                     accuracy                           0.53        97\n",
            "                    macro avg       0.37      0.51      0.35        97\n",
            "                 weighted avg       0.89      0.53      0.62        97\n",
            "\n",
            "----------\n",
            "bigram_svc\n"
          ],
          "name": "stdout"
        },
        {
          "output_type": "stream",
          "text": [
            "/usr/local/lib/python3.7/dist-packages/sklearn/metrics/_classification.py:1272: UndefinedMetricWarning: Recall and F-score are ill-defined and being set to 0.0 in labels with no true samples. Use `zero_division` parameter to control this behavior.\n",
            "  _warn_prf(average, modifier, msg_start, len(result))\n"
          ],
          "name": "stderr"
        },
        {
          "output_type": "stream",
          "text": [
            "                               precision    recall  f1-score   support\n",
            "\n",
            "     Alteração na Malha Aérea       0.29      0.88      0.44         8\n",
            "Atraso ou Cancelamento de Voo       0.98      0.45      0.62        89\n",
            "                    Doméstico       0.00      0.00      0.00         0\n",
            "          Extravio de Bagagem       0.00      0.00      0.00         0\n",
            "\n",
            "                     accuracy                           0.48        97\n",
            "                    macro avg       0.32      0.33      0.26        97\n",
            "                 weighted avg       0.92      0.48      0.60        97\n",
            "\n",
            "----------\n",
            "onegram_xgboost\n",
            "                               precision    recall  f1-score   support\n",
            "\n",
            "     Alteração na Malha Aérea       0.79      0.66      0.72        29\n",
            "Atraso ou Cancelamento de Voo       0.78      0.68      0.73        47\n",
            "                    Doméstico       0.28      0.71      0.40         7\n",
            "          Extravio de Bagagem       0.79      0.79      0.79        14\n",
            "\n",
            "                     accuracy                           0.69        97\n",
            "                    macro avg       0.66      0.71      0.66        97\n",
            "                 weighted avg       0.75      0.69      0.71        97\n",
            "\n",
            "----------\n",
            "bigram_xgboost\n",
            "                               precision    recall  f1-score   support\n",
            "\n",
            "     Alteração na Malha Aérea       0.62      0.62      0.62        24\n",
            "Atraso ou Cancelamento de Voo       0.73      0.58      0.65        52\n",
            "                    Doméstico       0.39      0.70      0.50        10\n",
            "          Extravio de Bagagem       0.71      0.91      0.80        11\n",
            "\n",
            "                     accuracy                           0.64        97\n",
            "                    macro avg       0.61      0.70      0.64        97\n",
            "                 weighted avg       0.67      0.64      0.64        97\n",
            "\n",
            "----------\n",
            "one_bigram_xgboost\n",
            "                               precision    recall  f1-score   support\n",
            "\n",
            "     Alteração na Malha Aérea       0.83      0.65      0.73        31\n",
            "Atraso ou Cancelamento de Voo       0.76      0.67      0.71        46\n",
            "                    Doméstico       0.22      0.67      0.33         6\n",
            "          Extravio de Bagagem       0.86      0.86      0.86        14\n",
            "\n",
            "                     accuracy                           0.69        97\n",
            "                    macro avg       0.67      0.71      0.66        97\n",
            "                 weighted avg       0.76      0.69      0.71        97\n",
            "\n"
          ],
          "name": "stdout"
        }
      ]
    }
  ]
}