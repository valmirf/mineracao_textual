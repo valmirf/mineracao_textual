{
  "nbformat": 4,
  "nbformat_minor": 0,
  "metadata": {
    "colab": {
      "name": "03c_ExercicioClassificacao.ipynb",
      "provenance": [],
      "collapsed_sections": [],
      "include_colab_link": true
    },
    "kernelspec": {
      "name": "python3",
      "display_name": "Python 3"
    }
  },
  "cells": [
    {
      "cell_type": "markdown",
      "metadata": {
        "id": "view-in-github",
        "colab_type": "text"
      },
      "source": [
        "<a href=\"https://colab.research.google.com/github/valmirf/mineracao_textual/blob/main/Classifica%C3%A7%C3%A3o/03c_ExercicioClassificacao.ipynb\" target=\"_parent\"><img src=\"https://colab.research.google.com/assets/colab-badge.svg\" alt=\"Open In Colab\"/></a>"
      ]
    },
    {
      "cell_type": "code",
      "metadata": {
        "id": "hExOp5OvKZlB"
      },
      "source": [
        "!git clone https://github.com/valmirf/mineracao_textual.git"
      ],
      "execution_count": null,
      "outputs": []
    },
    {
      "cell_type": "markdown",
      "metadata": {
        "id": "YGfG7BHb-W-r"
      },
      "source": [
        "# Exercício: Classificando Petição Inicial de Problemas com Viagens"
      ]
    },
    {
      "cell_type": "code",
      "metadata": {
        "id": "-3IMacGw8BP6"
      },
      "source": [
        "import pandas as pd\n",
        "\n",
        "df = data = pd.read_csv(\"mineracao_textual/Dados/dataset_ness_law.csv\")\n",
        "df.head()"
      ],
      "execution_count": null,
      "outputs": []
    },
    {
      "cell_type": "markdown",
      "metadata": {
        "id": "mIcfqQGH-G_F"
      },
      "source": [
        "Analise a distribuição das classes, indicadas na coluna `Class Name`"
      ]
    },
    {
      "cell_type": "code",
      "metadata": {
        "id": "I_NLk1Ev-qqF"
      },
      "source": [
        "# sua resposta\n",
        "df['objeto'].value_counts()"
      ],
      "execution_count": null,
      "outputs": []
    },
    {
      "cell_type": "markdown",
      "metadata": {
        "id": "uPzg6Wcs-1rl"
      },
      "source": [
        "Analise a distribuição do comprimento dos reviews, plote um histograma (`DataFrame.plot.hist()`)"
      ]
    },
    {
      "cell_type": "code",
      "metadata": {
        "id": "UAiZekzx-0-N"
      },
      "source": [
        "# sua resposta\n",
        "df['TamanhoObjeto'] = df['objeto'].apply(lambda x: len(x))\n",
        "df['TamanhoObjeto'].plot.hist()"
      ],
      "execution_count": null,
      "outputs": []
    },
    {
      "cell_type": "markdown",
      "metadata": {
        "id": "Yfm1MeotAh4Z"
      },
      "source": [
        "Aplique a função de encoding de rótulos categóricos do Sklearn ([LabelEncoder](https://scikit-learn.org/stable/modules/generated/sklearn.preprocessing.LabelEncoder.html)) para converter os rótulos de classe em numeros. Salve em uma coluna adicional no dataframe."
      ]
    },
    {
      "cell_type": "code",
      "metadata": {
        "id": "WkVpxbybA9fm"
      },
      "source": [
        "# descartar classes minoritarias\n",
        "major_classes = list(df['objeto'].value_counts()[0:4].index)\n",
        "majority      = df.loc[df['objeto'].isin(major_classes),]\n",
        "minority      = df.loc[~df['objeto'].isin(major_classes),]\n",
        "\n",
        "print('\\n',5*'=', 'major classes: \\n',    majority['objeto'].value_counts()[0:4])\n",
        "print('\\n',5*'=', 'minority classes: \\n', minority['objeto'].value_counts()[4:])\n",
        "\n",
        "majority.head()\n",
        "\n",
        "from sklearn.preprocessing import LabelEncoder\n",
        "\n",
        "le = LabelEncoder()\n",
        "le.fit(majority['objeto'])\n",
        "majority['label'] = le.transform(majority['objeto'])\n",
        "majority.head()"
      ],
      "execution_count": null,
      "outputs": []
    },
    {
      "cell_type": "markdown",
      "metadata": {
        "id": "w3oDZj-l8o-7"
      },
      "source": [
        "Aplique o pipeline de pré-processamento utilizando o NLTK ou SpaCy (tokenização, remoção de stopwords, e/ou lematização e/ou stemming)."
      ]
    },
    {
      "cell_type": "code",
      "metadata": {
        "id": "4jWJ-CsH_2KV"
      },
      "source": [
        ""
      ],
      "execution_count": null,
      "outputs": []
    },
    {
      "cell_type": "markdown",
      "metadata": {
        "id": "j1jNcZ-WN5sa"
      },
      "source": [
        "Em seguida, utilize as funções de transformação do Scikit-Learn para textos, utilizando os atributos de n-gramas para classificar os textos:\n",
        "```\n",
        "from sklearn.feature_extraction.text import TfidfVectorizer\n",
        "vectorizer = TfidfVectorizer(use_idf=True)\n",
        "```\n",
        "No qual você pode passar os valores de intervalos de n-gramas:\n",
        "- um intervalo de ngram de (1, 1) significa apenas unigramas\n",
        "- (1, 2) significa unigramas e bigrams \n",
        "- (2, 2) significa apenas bigrams"
      ]
    },
    {
      "cell_type": "code",
      "metadata": {
        "id": "Z4RF0P1GN-jf"
      },
      "source": [
        ""
      ],
      "execution_count": null,
      "outputs": []
    },
    {
      "cell_type": "markdown",
      "metadata": {
        "id": "rvhV-u3N_2Wo"
      },
      "source": [
        "Separe o conjunto em treino e teste. Utilize a função `sklearn.model_selection.train_test_split()`"
      ]
    },
    {
      "cell_type": "code",
      "metadata": {
        "id": "rpg1zl1gAHlD"
      },
      "source": [
        ""
      ],
      "execution_count": null,
      "outputs": []
    },
    {
      "cell_type": "markdown",
      "metadata": {
        "id": "Wuh4HvH9AH03"
      },
      "source": [
        "Treine um modelo com o algoritmo `NaiveBayes`, e salve as predições para o conjunto de testes na variável `preds`"
      ]
    },
    {
      "cell_type": "code",
      "metadata": {
        "id": "Sirb-mtbAR7H"
      },
      "source": [
        "preds = []"
      ],
      "execution_count": null,
      "outputs": []
    },
    {
      "cell_type": "markdown",
      "metadata": {
        "id": "AExPjo0p_vjJ"
      },
      "source": [
        "Analise os resultados das predições"
      ]
    },
    {
      "cell_type": "code",
      "metadata": {
        "id": "hwO2v9gmAYuW"
      },
      "source": [
        "from sklearn import metrics\n",
        "print(metrics.classification_report(preds, df['objeto']))"
      ],
      "execution_count": null,
      "outputs": []
    },
    {
      "cell_type": "markdown",
      "metadata": {
        "id": "Fp25T82nBDgo"
      },
      "source": [
        "Discuta os resultados. Qual foi a melhor abordagem? Qual foi a pior? Porque você acha que esses resultados foram o melhor e o pior? Algum resultado chamou sua atenção, porque?"
      ]
    },
    {
      "cell_type": "code",
      "metadata": {
        "id": "ZccK0slbBNLH"
      },
      "source": [
        ""
      ],
      "execution_count": null,
      "outputs": []
    }
  ]
}